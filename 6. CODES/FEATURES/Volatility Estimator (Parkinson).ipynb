{
 "cells": [
  {
   "cell_type": "code",
   "execution_count": 1,
   "id": "e1ac28a8",
   "metadata": {},
   "outputs": [],
   "source": [
    "import pandas as pd\n",
    "import numpy as np\n",
    "import math"
   ]
  },
  {
   "cell_type": "code",
   "execution_count": 2,
   "id": "3afe424f",
   "metadata": {},
   "outputs": [],
   "source": [
    "df = pd.read_csv(\"../DATA/4-hours Pepperstone/4-hours_EURUSD.csv\")"
   ]
  },
  {
   "cell_type": "code",
   "execution_count": 3,
   "id": "7aa8e3ec",
   "metadata": {},
   "outputs": [],
   "source": [
    "def moving_parkinson_estimator(df, window_size=30):\n",
    "    \"\"\"\n",
    "    Calculate Parkinson's volatility estimator based on high and low prices.\n",
    "\n",
    "    Parameters:\n",
    "    -----------\n",
    "    df : pandas.DataFrame\n",
    "        DataFrame containing 'high' and 'low' columns for each trading period.\n",
    "\n",
    "    Returns:\n",
    "    --------\n",
    "    volatility : float\n",
    "        Estimated volatility based on Parkinson's method.\n",
    "    \"\"\"\n",
    "    def parkinson_estimator(df):\n",
    "        N = len(df)\n",
    "        sum_squared = np.sum(np.log(df['high'] / df['low']) ** 2)\n",
    "\n",
    "        volatility = math.sqrt((1 / (4 * N * math.log(2))) * sum_squared)\n",
    "        return volatility\n",
    "    \n",
    "    df_copy = df.copy()\n",
    "    # Create an empty series to store mobile volatility\n",
    "    rolling_volatility = pd.Series(dtype='float64')\n",
    "\n",
    "    # Browse the DataFrame by window size `window_size` and apply `parkinson_estimator`.\n",
    "    for i in range(window_size, len(df)):\n",
    "        window = df_copy.loc[df_copy.index[i-window_size]: df_copy.index[i]]\n",
    "        volatility = parkinson_estimator(window)\n",
    "        rolling_volatility.at[df_copy.index[i]] = volatility\n",
    "\n",
    "    # Add the mobile volatility series to the original DataFrame\n",
    "    df_copy['rolling_volatility_parkinson'] = rolling_volatility\n",
    "    \n",
    "    return df_copy"
   ]
  },
  {
   "cell_type": "code",
   "execution_count": 4,
   "id": "ba4aada0",
   "metadata": {},
   "outputs": [],
   "source": [
    "df = moving_parkinson_estimator(df)"
   ]
  },
  {
   "cell_type": "code",
   "execution_count": 8,
   "id": "bb87cdcb",
   "metadata": {},
   "outputs": [
    {
     "data": {
      "text/plain": [
       "<AxesSubplot:>"
      ]
     },
     "execution_count": 8,
     "metadata": {},
     "output_type": "execute_result"
    },
    {
     "data": {
      "image/png": "[encoded data removed]",
      "text/plain": [
       "<Figure size 432x288 with 1 Axes>"
      ]
     },
     "metadata": {
      "needs_background": "light"
     },
     "output_type": "display_data"
    }
   ],
   "source": [
    "df['rolling_volatility_parkinson'].iloc[1000:1500].plot()"
   ]
  },
  {
   "cell_type": "code",
   "execution_count": 10,
   "id": "9ff2c28d",
   "metadata": {},
   "outputs": [
    {
     "data": {
      "text/html": [
       "<div>\n",
       "<style scoped>\n",
       "    .dataframe tbody tr th:only-of-type {\n",
       "        vertical-align: middle;\n",
       "    }\n",
       "\n",
       "    .dataframe tbody tr th {\n",
       "        vertical-align: top;\n",
       "    }\n",
       "\n",
       "    .dataframe thead th {\n",
       "        text-align: right;\n",
       "    }\n",
       "</style>\n",
       "<table border=\"1\" class=\"dataframe\">\n",
       "  <thead>\n",
       "    <tr style=\"text-align: right;\">\n",
       "      <th></th>\n",
       "      <th>tick_volume</th>\n",
       "      <th>rolling_volatility_parkinson</th>\n",
       "    </tr>\n",
       "  </thead>\n",
       "  <tbody>\n",
       "    <tr>\n",
       "      <th>tick_volume</th>\n",
       "      <td>1.000000</td>\n",
       "      <td>0.299642</td>\n",
       "    </tr>\n",
       "    <tr>\n",
       "      <th>rolling_volatility_parkinson</th>\n",
       "      <td>0.299642</td>\n",
       "      <td>1.000000</td>\n",
       "    </tr>\n",
       "  </tbody>\n",
       "</table>\n",
       "</div>"
      ],
      "text/plain": [
       "                              tick_volume  rolling_volatility_parkinson\n",
       "tick_volume                      1.000000                      0.299642\n",
       "rolling_volatility_parkinson     0.299642                      1.000000"
      ]
     },
     "execution_count": 10,
     "metadata": {},
     "output_type": "execute_result"
    }
   ],
   "source": [
    "df[[\"tick_volume\", \"rolling_volatility_parkinson\"]].corr()"
   ]
  },
  {
   "cell_type": "code",
   "execution_count": null,
   "id": "90a5eec8",
   "metadata": {},
   "outputs": [],
   "source": []
  }
 ],
 "metadata": {
  "kernelspec": {
   "display_name": "Python 3 (ipykernel)",
   "language": "python",
   "name": "python3"
  },
  "language_info": {
   "codemirror_mode": {
    "name": "ipython",
    "version": 3
   },
   "file_extension": ".py",
   "mimetype": "text/x-python",
   "name": "python",
   "nbconvert_exporter": "python",
   "pygments_lexer": "ipython3",
   "version": "3.9.12"
  }
 },
 "nbformat": 4,
 "nbformat_minor": 5
}
