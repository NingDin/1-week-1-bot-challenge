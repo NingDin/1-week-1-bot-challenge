{
 "cells": [
  {
   "cell_type": "code",
   "execution_count": 2,
   "id": "aa857da7",
   "metadata": {},
   "outputs": [],
   "source": [
    "import pandas as pd\n",
    "import numpy as np\n",
    "import matplotlib.pyplot as plt"
   ]
  },
  {
   "cell_type": "code",
   "execution_count": 3,
   "id": "fe4ecea8",
   "metadata": {},
   "outputs": [],
   "source": [
    "df = pd.read_csv(\"../DATA/4-hours Pepperstone/4-hours_EURUSD.csv\")"
   ]
  },
  {
   "cell_type": "code",
   "execution_count": 4,
   "id": "3a2e907c",
   "metadata": {},
   "outputs": [],
   "source": [
    "def derivatives(df,col):\n",
    "    \"\"\"\n",
    "    Calculates the first and second derivatives of a given column in a DataFrame \n",
    "    and adds them as new columns 'velocity' and 'acceleration'.\n",
    "\n",
    "    Parameters:\n",
    "    -----------\n",
    "    df : pandas.DataFrame\n",
    "        The DataFrame containing the column for which derivatives are to be calculated.\n",
    "        \n",
    "    col : str\n",
    "        The column name for which the first and second derivatives are to be calculated.\n",
    "\n",
    "    Returns:\n",
    "    --------\n",
    "    df_copy : pandas.DataFrame\n",
    "        A new DataFrame with 'velocity' and 'acceleration' columns added.\n",
    "\n",
    "    \"\"\"\n",
    "    \n",
    "    df_copy = df.copy()\n",
    "\n",
    "    df_copy[\"velocity\"] = df_copy[col].diff().fillna(0)\n",
    "    df_copy[\"acceleration\"] = df_copy[\"velocity\"].diff().fillna(0)\n",
    "    \n",
    "    return df_copy"
   ]
  },
  {
   "cell_type": "code",
   "execution_count": 7,
   "id": "57a7b854",
   "metadata": {},
   "outputs": [],
   "source": [
    "df = derivatives(df, \"close\")"
   ]
  },
  {
   "cell_type": "code",
   "execution_count": 8,
   "id": "3faf7a8a",
   "metadata": {},
   "outputs": [
    {
     "data": {
      "text/plain": [
       "[<matplotlib.lines.Line2D at 0x7fd2e0cdd130>]"
      ]
     },
     "execution_count": 8,
     "metadata": {},
     "output_type": "execute_result"
    },
    {
     "data": {
      "image/png": "[encoded data removed]",
      "text/plain": [
       "<Figure size 432x288 with 1 Axes>"
      ]
     },
     "metadata": {
      "needs_background": "light"
     },
     "output_type": "display_data"
    }
   ],
   "source": [
    "plt.plot(df[\"velocity\"])\n",
    "plt.plot(df[\"acceleration\"])"
   ]
  },
  {
   "cell_type": "code",
   "execution_count": null,
   "id": "d04dfbf7",
   "metadata": {},
   "outputs": [],
   "source": []
  }
 ],
 "metadata": {
  "kernelspec": {
   "display_name": "Python 3 (ipykernel)",
   "language": "python",
   "name": "python3"
  },
  "language_info": {
   "codemirror_mode": {
    "name": "ipython",
    "version": 3
   },
   "file_extension": ".py",
   "mimetype": "text/x-python",
   "name": "python",
   "nbconvert_exporter": "python",
   "pygments_lexer": "ipython3",
   "version": "3.9.12"
  }
 },
 "nbformat": 4,
 "nbformat_minor": 5
}
