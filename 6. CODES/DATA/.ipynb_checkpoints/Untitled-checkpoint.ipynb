{
 "cells": [
  {
   "cell_type": "code",
   "execution_count": 4,
   "id": "c9ec7aa8",
   "metadata": {},
   "outputs": [],
   "source": [
    "import pandas as pd\n",
    "import numpy as np\n",
    "from tqdm import tqdm\n",
    "\n",
    "\n",
    "def convert_time_interval(input_interval):\n",
    "    \"\"\"\n",
    "    Function to convert a time interval in hours, days, or minutes to minutes.\n",
    "\n",
    "    Parameters:\n",
    "        input_interval (str): The time interval as a string.\n",
    "                              For example: '5H' for 5 hours, '3D' for 3 days, or '300T' for 300 minutes.\n",
    "\n",
    "    Returns:\n",
    "        int: The equivalent time interval in minutes.\n",
    "    \"\"\"\n",
    "    num = int(input_interval[:-1])  # Get the number (ignore the last character 'H', 'D', or 'T').\n",
    "    unit = input_interval[-1]       # Get the unit of time ('H' for hours, 'D' for days, or 'T' for minutes).\n",
    "\n",
    "    if unit == 'H':\n",
    "        return f\"{int(num/10 * 60)}T\", f\"{num * 60}T\"  # Convert hours to minutes.\n",
    "    elif unit == 'D':\n",
    "        return f\"{int(num/10 * 24 * 60)}T\", f\"{num * 24 * 60}T\"  # Convert days to minutes.\n",
    "    elif unit == 'T':\n",
    "        if num<=5:\n",
    "            return f\"1T\", f\"{num}T\"  # For minutes, return the value directly.\n",
    "        else:\n",
    "            return f\"{int(num/5)}T\", f\"{num}T\"  # For minutes, return the value directly.\n",
    "    else:\n",
    "        raise ValueError(\"Invalid input interval. Please use 'H' for hours, 'D' for days, or 'T' for minutes.\")\n",
    "\n",
    "\n",
    "def resample_data(df, granularity):\n",
    "    resample = df.resample(granularity)\n",
    "\n",
    "    df_resampled = pd.DataFrame()\n",
    "    df_resampled[\"open\"] = resample[\"open\"].first()\n",
    "    df_resampled[\"high\"] = resample[\"high\"].max()\n",
    "    df_resampled[\"low\"] = resample[\"low\"].min()\n",
    "    df_resampled[\"close\"] = resample[\"close\"].last()\n",
    "    df_resampled[\"tick_volume\"] = resample[\"tick_volume\"].sum()\n",
    "\n",
    "    return df_resampled\n",
    "\n",
    "\n",
    "def find_timestamp_extremum(df, df_lower_timeframe):\n",
    "    \"\"\"\n",
    "    :param: df_lowest_timeframe\n",
    "    :return: self._data with three new columns: Low_time (TimeStamp), High_time (TimeStamp), High_first (Boolean)\n",
    "    \"\"\"\n",
    "\n",
    "    df = df.copy()\n",
    "    df = df.loc[df_lower_timeframe.index[0]:]\n",
    "\n",
    "    # Set new columns\n",
    "    df[\"low_time\"] = np.nan\n",
    "    df[\"high_time\"] = np.nan\n",
    "\n",
    "    # Loop to find out which of the high or low appears first\n",
    "    for i in tqdm(range(len(df) - 1)):\n",
    "\n",
    "        # Extract values from the lowest timeframe dataframe\n",
    "        start = df.iloc[i:i + 1].index[0]\n",
    "        end = df.iloc[i + 1:i + 2].index[0]\n",
    "        row_lowest_timeframe = df_lower_timeframe.loc[start:end].iloc[:-1]\n",
    "\n",
    "        # Extract Timestamp of the max and min over the period (highest timeframe)\n",
    "        try:\n",
    "            high = row_lowest_timeframe[\"high\"].idxmax()\n",
    "            low = row_lowest_timeframe[\"low\"].idxmin()\n",
    "\n",
    "            df.loc[start, \"low_time\"] = low\n",
    "            df.loc[start, \"high_time\"] = high\n",
    "\n",
    "        except Exception as e:\n",
    "            print(e)\n",
    "            df.loc[start, \"low_time\"] = None\n",
    "            df.loc[start, \"high_time\"] = None\n",
    "\n",
    "    # Verify the number of row without both TP and SL on same time\n",
    "    percentage_good_row = len(df.dropna()) / len(df) * 100\n",
    "\n",
    "    # if percentage_garbage_row<95:\n",
    "    print(f\"Good rows: {'%.2f' % percentage_good_row} %\")\n",
    "\n",
    "    df = df.iloc[:-1]\n",
    "\n",
    "    return df"
   ]
  },
  {
   "cell_type": "code",
   "execution_count": null,
   "id": "cc88c1f1",
   "metadata": {},
   "outputs": [
    {
     "name": "stdout",
     "output_type": "stream",
     "text": [
      "Timeframe (without quotes):15T\n",
      " \n",
      "-----------------------------------------------------------------------\n",
      "IMPORT 1-MINUTE DATA\n",
      " \n",
      "-----------------------------------------------------------------------\n",
      "START RESAMPLING\n"
     ]
    },
    {
     "name": "stderr",
     "output_type": "stream",
     "text": [
      "  9%|███▏                               | 19654/216788 [01:06<12:08, 270.47it/s]"
     ]
    },
    {
     "name": "stdout",
     "output_type": "stream",
     "text": [
      "attempt to get argmax of an empty sequence\n"
     ]
    },
    {
     "name": "stderr",
     "output_type": "stream",
     "text": [
      " 17%|█████▉                             | 36662/216788 [02:12<12:36, 238.19it/s]"
     ]
    }
   ],
   "source": [
    "symbols = [\"GBPUSD\", \"USDCHF\", \"USDJPY\", \"USDCAD\", \"BTCEUR\", \"BTCGBP\", \"BTCUSD\", \"BTCAUD\", \"ETHAUD\", \"LTCUSD\",\n",
    "           \"ETHEUR\", \"ETHGBP\", \"ETHUSD\", \"US30\", \"UK100\", \"NAS100\", \"US500\", \"JPN225\", \"AUS200\", \"FRA40\"]\n",
    "\n",
    "new_tf = input(\"Timeframe (without quotes):\")\n",
    "\n",
    "for symbol in symbols:\n",
    "    path = f\"1-minute Pepperstone/1-minute{symbol}.csv\"\n",
    "    low_tf, high_tf = convert_time_interval(new_tf)\n",
    "    #print(low_tf, high_tf)\n",
    "\n",
    "    print(\" \")\n",
    "    print(\"-----------------------------------------------------------------------\")\n",
    "    print(\"IMPORT 1-MINUTE DATA\")\n",
    "\n",
    "    df_1m = pd.read_csv(path, index_col=\"time\", parse_dates=True)\n",
    "\n",
    "    print(\" \")\n",
    "    print(\"-----------------------------------------------------------------------\")\n",
    "    print(\"START RESAMPLING\")\n",
    "\n",
    "\n",
    "    df_lower = resample_data(df_1m, low_tf).dropna()\n",
    "    df_higher = resample_data(df_1m, high_tf).dropna()\n",
    "\n",
    "\n",
    "    df = find_timestamp_extremum(df_higher, df_lower)\n",
    "    print(symbol)\n",
    "    print(df)\n",
    "\n",
    "    path_out = f\"15-minutes Pepperstone/15-minutes_{symbol}.csv\"\n",
    "\n",
    "    if len(path_out) == 0:\n",
    "        pass\n",
    "    else:\n",
    "        df.to_csv(path_out)"
   ]
  },
  {
   "cell_type": "code",
   "execution_count": null,
   "id": "9407e3d1",
   "metadata": {},
   "outputs": [],
   "source": [
    "1-minute Pepperstone/1-minuteEURUSD.csv"
   ]
  }
 ],
 "metadata": {
  "kernelspec": {
   "display_name": "Python 3 (ipykernel)",
   "language": "python",
   "name": "python3"
  },
  "language_info": {
   "codemirror_mode": {
    "name": "ipython",
    "version": 3
   },
   "file_extension": ".py",
   "mimetype": "text/x-python",
   "name": "python",
   "nbconvert_exporter": "python",
   "pygments_lexer": "ipython3",
   "version": "3.9.12"
  }
 },
 "nbformat": 4,
 "nbformat_minor": 5
}
