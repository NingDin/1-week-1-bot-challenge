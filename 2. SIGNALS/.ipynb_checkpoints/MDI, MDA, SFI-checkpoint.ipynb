{
 "cells": [
  {
   "cell_type": "code",
   "execution_count": 1,
   "id": "ffdfd60f",
   "metadata": {},
   "outputs": [],
   "source": [
    "import pandas as pd\n",
    "import numpy as np\n",
    "import matplotlib.pyplot as plt"
   ]
  },
  {
   "cell_type": "code",
   "execution_count": 3,
   "id": "3471fa30",
   "metadata": {},
   "outputs": [],
   "source": [
    "df = pd.read_csv(\"../../Alpha-Quant-Course/Data/FixTimeBars/AUDUSD_4H_Admiral_READY.csv\")"
   ]
  },
  {
   "cell_type": "code",
   "execution_count": 4,
   "id": "38492258",
   "metadata": {},
   "outputs": [
    {
     "name": "stdout",
     "output_type": "stream",
     "text": [
      "Feature importance (MDI): [1.]\n"
     ]
    }
   ],
   "source": [
    "import pandas as pd\n",
    "import numpy as np\n",
    "from sklearn.tree import DecisionTreeRegressor\n",
    "from sklearn.model_selection import train_test_split\n",
    "\n",
    "# Générer un DataFrame exemple avec une colonne \"close\"\n",
    "np.random.seed(0)\n",
    "n = 100  # nombre de jours\n",
    "close_prices = np.random.rand(n)  # Générer des prix de clôture aléatoires\n",
    "\n",
    "df = pd.DataFrame({'close': close_prices})\n",
    "\n",
    "# Créer X et y\n",
    "# X sera les valeurs \"close\" de la veille\n",
    "# y sera les valeurs \"close\" d'aujourd'hui\n",
    "X = df['close'].iloc[:-1].values.reshape(-1, 1)\n",
    "y = df['close'].iloc[1:].values\n",
    "\n",
    "# Diviser les données en ensembles d'apprentissage et de test\n",
    "X_train, X_test, y_train, y_test = train_test_split(X, y, test_size=0.2, random_state=42)\n",
    "\n",
    "# Créer et former le modèle\n",
    "model = DecisionTreeRegressor(random_state=42)\n",
    "model.fit(X_train, y_train)\n",
    "\n",
    "# Obtenir l'importance des caractéristiques\n",
    "feature_importance = model.feature_importances_\n",
    "print(f\"Feature importance (MDI): {feature_importance}\")\n"
   ]
  },
  {
   "cell_type": "code",
   "execution_count": null,
   "id": "78138823",
   "metadata": {},
   "outputs": [],
   "source": []
  }
 ],
 "metadata": {
  "kernelspec": {
   "display_name": "Python 3 (ipykernel)",
   "language": "python",
   "name": "python3"
  },
  "language_info": {
   "codemirror_mode": {
    "name": "ipython",
    "version": 3
   },
   "file_extension": ".py",
   "mimetype": "text/x-python",
   "name": "python",
   "nbconvert_exporter": "python",
   "pygments_lexer": "ipython3",
   "version": "3.9.12"
  }
 },
 "nbformat": 4,
 "nbformat_minor": 5
}
